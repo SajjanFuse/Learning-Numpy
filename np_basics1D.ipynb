{
 "cells": [
  {
   "cell_type": "code",
   "execution_count": 2,
   "id": "ecaa6e20-a8d7-4f35-b37d-0777720f077b",
   "metadata": {},
   "outputs": [],
   "source": [
    "import numpy as np "
   ]
  },
  {
   "cell_type": "markdown",
   "id": "cfb4f719-169c-4623-9846-6d4eae704815",
   "metadata": {},
   "source": [
    "The objective of this course is to ensure you are able to:\n",
    " Learn Basics of Numpy Introduction to Numpy\n",
    "- 1D array\n",
    "   - zeros(), ones()\n",
    "   - linspace(), arange(), .array(),\n",
    "   - random.randint(), random.normal(),\n",
    "   - random.uniform()\n",
    "   - indexing, Slicing\n",
    "   - .any() vs all()\n",
    "   - broadcasting\n",
    "- 2D array\n",
    "    - Introduction\n",
    "    - reshape()\n",
    "    - flatten() vs ravel()\n",
    "    - indexing and slicing\n",
    "    - axis = 1 vs axis = 0\n",
    "   - dot product\n",
    "- cross product\n",
    "- linalg module\n",
    "- 3D array and images"
   ]
  },
  {
   "cell_type": "markdown",
   "id": "2780ec60-133b-41ca-9ed7-39d3909c624e",
   "metadata": {},
   "source": [
    "## 1D Array "
   ]
  },
  {
   "cell_type": "code",
   "execution_count": 3,
   "id": "9a70403c-ee31-4c43-b508-e11ca2882e07",
   "metadata": {},
   "outputs": [
    {
     "data": {
      "text/plain": [
       "array([1, 2, 3])"
      ]
     },
     "execution_count": 3,
     "metadata": {},
     "output_type": "execute_result"
    }
   ],
   "source": [
    "a = np.array([1, 2, 3])\n",
    "a"
   ]
  },
  {
   "cell_type": "code",
   "execution_count": 9,
   "id": "c571356a-d928-4299-aa86-55ab4932e75c",
   "metadata": {},
   "outputs": [
    {
     "data": {
      "text/plain": [
       "array([0., 0.])"
      ]
     },
     "execution_count": 9,
     "metadata": {},
     "output_type": "execute_result"
    }
   ],
   "source": [
    "b = np.zeros(2)\n",
    "b "
   ]
  },
  {
   "cell_type": "code",
   "execution_count": 10,
   "id": "15f3163d-ef33-4f9e-8ec5-cdca37b5f597",
   "metadata": {},
   "outputs": [
    {
     "data": {
      "text/plain": [
       "array([0., 0.])"
      ]
     },
     "execution_count": 10,
     "metadata": {},
     "output_type": "execute_result"
    }
   ],
   "source": [
    "b = np.zeros_like(b)\n",
    "b"
   ]
  },
  {
   "cell_type": "code",
   "execution_count": 12,
   "id": "7ba02f7d-c7dd-40aa-89fb-2b26eaaf8c76",
   "metadata": {},
   "outputs": [
    {
     "data": {
      "text/plain": [
       "array([1., 1., 1., 1., 1.])"
      ]
     },
     "execution_count": 12,
     "metadata": {},
     "output_type": "execute_result"
    }
   ],
   "source": [
    "c = np.ones(5)\n",
    "c"
   ]
  },
  {
   "cell_type": "code",
   "execution_count": 14,
   "id": "0fbce5cf-63b6-4fbf-9d08-eeeedc97ecda",
   "metadata": {},
   "outputs": [
    {
     "data": {
      "text/plain": [
       "array([1, 2, 3])"
      ]
     },
     "execution_count": 14,
     "metadata": {},
     "output_type": "execute_result"
    }
   ],
   "source": [
    "#linspace(), arange(), .array()\n",
    "a1 = np.array([1, 2, 3])\n",
    "a1"
   ]
  },
  {
   "cell_type": "markdown",
   "id": "23d771de-c498-4339-8584-ba2c44e932bc",
   "metadata": {
    "scrolled": true
   },
   "source": [
    "# linspace -> values spaced linearly in specified interval \n",
    "help(np.linspace)\n",
    "    \n",
    "    linspace(start, stop, num=50, endpoint=True, retstep=False, dtype=None, axis=0)\n",
    "    Return evenly spaced numbers over a specified interval.\n",
    "    \n",
    "    Returns `num` evenly spaced samples, calculated over the\n",
    "    interval [`start`, `stop`].\n",
    "    \n",
    "    The endpoint of the interval can optionally be excluded."
   ]
  },
  {
   "cell_type": "code",
   "execution_count": 21,
   "id": "7c742e46-4a69-4e98-9f24-c47fc3b1663c",
   "metadata": {},
   "outputs": [
    {
     "data": {
      "text/plain": [
       "array([ 0. ,  2.5,  5. ,  7.5, 10. ])"
      ]
     },
     "execution_count": 21,
     "metadata": {},
     "output_type": "execute_result"
    }
   ],
   "source": [
    "np.linspace(start=0, stop=10, num=5) #num is number of values needed"
   ]
  },
  {
   "cell_type": "code",
   "execution_count": 25,
   "id": "ee1b9379-e9c1-493b-840b-de5b960772cd",
   "metadata": {},
   "outputs": [
    {
     "data": {
      "text/plain": [
       "array([0.        , 0.33333333, 0.66666667, 1.        ])"
      ]
     },
     "execution_count": 25,
     "metadata": {},
     "output_type": "execute_result"
    }
   ],
   "source": [
    "np.linspace(start=0, stop=1, num=4)"
   ]
  },
  {
   "cell_type": "markdown",
   "id": "876cebd0-7f32-4d92-bc56-0a5f236ea8ef",
   "metadata": {},
   "source": [
    "### arange \n",
    "\n",
    "arange(...) \n",
    "    Return evenly spaced values within a given interval.\n",
    "    \n",
    "    ``arange`` can be called with a varying number of positional arguments:\n",
    "    \n",
    "    * ``arange(stop)``: Values are generated within the half-open interval\n",
    "      ``[0, stop)`` (in other words, the interval including `start` but\n",
    "      excluding `stop`).\n",
    "    * ``arange(start, stop)``: Values are generated within the half-open\n",
    "      interval ``[start, stop)``.\n",
    "    * ``arange(start, stop, step)`` Values are generated within the half-open\n",
    "      interval ``[start, stop)``, with spacing between values given by\n",
    "      ``step``."
   ]
  },
  {
   "cell_type": "code",
   "execution_count": 29,
   "id": "530766a9-59d5-4032-a1a1-7f6bf858f184",
   "metadata": {},
   "outputs": [
    {
     "data": {
      "text/plain": [
       "(array([2]),\n",
       " array([0.  , 0.05, 0.1 , 0.15, 0.2 , 0.25, 0.3 , 0.35, 0.4 , 0.45, 0.5 ,\n",
       "        0.55, 0.6 , 0.65, 0.7 , 0.75, 0.8 , 0.85, 0.9 , 0.95]))"
      ]
     },
     "execution_count": 29,
     "metadata": {},
     "output_type": "execute_result"
    }
   ],
   "source": [
    "# first number, last number, and the step size.\n",
    "np.arange(2,4,2), np.arange(0,1,0.05)"
   ]
  },
  {
   "cell_type": "code",
   "execution_count": 32,
   "id": "5cd9643e-0a05-4469-aa29-0e08fcc4529f",
   "metadata": {},
   "outputs": [
    {
     "data": {
      "text/plain": [
       "900"
      ]
     },
     "execution_count": 32,
     "metadata": {},
     "output_type": "execute_result"
    }
   ],
   "source": [
    "len(np.arange(1,10,0.01))"
   ]
  },
  {
   "cell_type": "code",
   "execution_count": 42,
   "id": "8d98c4d6-7ff6-4f1e-a7f9-b0566b9c13de",
   "metadata": {},
   "outputs": [
    {
     "name": "stdout",
     "output_type": "stream",
     "text": [
      "Generator(PCG64)\n"
     ]
    },
    {
     "data": {
      "text/plain": [
       "(array([0.87304617, 0.31794839, 0.61163926, 0.04918844, 0.8678995 ,\n",
       "        0.80223582, 0.14723488]),\n",
       " array([0.05076629, 0.81352753, 0.61402907, 0.53898445, 0.40761619,\n",
       "        0.13924722, 0.81714573]))"
      ]
     },
     "execution_count": 42,
     "metadata": {},
     "output_type": "execute_result"
    }
   ],
   "source": [
    "# random.randint(), random.normal() \n",
    "# random generator class\n",
    "print(np.random.default_rng())\n",
    "np.random.default_rng().random((7)), np.random.default_rng().random(7)"
   ]
  },
  {
   "cell_type": "code",
   "execution_count": 43,
   "id": "197b7da3-520f-4d10-82f4-a5d4feeda8ff",
   "metadata": {},
   "outputs": [
    {
     "data": {
      "text/plain": [
       "array([11, 12, 13, 14, 15, 16, 17, 18, 19, 20])"
      ]
     },
     "execution_count": 43,
     "metadata": {},
     "output_type": "execute_result"
    }
   ],
   "source": [
    "a = np.array([11, 11, 12, 13, 14, 15, 16, 17, 12, 13, 11, 14, 18, 19, 20])\n",
    "np.unique(a) "
   ]
  },
  {
   "cell_type": "code",
   "execution_count": 61,
   "id": "c00bb5c8-599c-402c-906a-3f80ad767856",
   "metadata": {},
   "outputs": [
    {
     "name": "stdout",
     "output_type": "stream",
     "text": [
      "1\n",
      "6\n",
      "6\n",
      "24\n"
     ]
    },
    {
     "data": {
      "text/plain": [
       "48"
      ]
     },
     "execution_count": 61,
     "metadata": {},
     "output_type": "execute_result"
    }
   ],
   "source": [
    "# random.randint(low, high=None, size=None, dtype=int)\n",
    "random1 = np.random.randint(low=0, high=100, size = (3,2), dtype = np.int8)\n",
    "# itemsize is memory size of each element \n",
    "print(random1.itemsize)\n",
    "print(random1.size)\n",
    "print(random1.itemsize*random1.size)\n",
    "\n",
    "# int32 has 4 bytes for each element \n",
    "random2 = np.random.randint(low=0, high=100, size = (3,2), dtype = np.int32)\n",
    "print(random2.itemsize * random2.size)\n",
    "\n",
    "# int128 \n",
    "random3 = np.random.randint(low=0, high=100, size = (3,2), dtype = np.int64)\n",
    "random3.itemsize * random3.size "
   ]
  },
  {
   "cell_type": "code",
   "execution_count": 107,
   "id": "d42ce186-b0fe-4685-bf41-66f97a2dc1f9",
   "metadata": {},
   "outputs": [
    {
     "data": {
      "text/plain": [
       "(1.0000785544072264, 0.0995030737621014)"
      ]
     },
     "execution_count": 107,
     "metadata": {},
     "output_type": "execute_result"
    }
   ],
   "source": [
    "# random.normal(loc=0.0, scale=1.0, size=None)\n",
    "# random samples from a normal (Gaussian distribution) \n",
    "# loc = mean (centre) of the distribution  \n",
    "# scale = standard deviation (width) of the distribution \n",
    "# size = output shape , (m,n,k) -> m*n*k samples are drawn \n",
    "\n",
    "num = np.random.normal(1, 0.1, size=(3000))\n",
    "np.mean(num), np.std(num)"
   ]
  },
  {
   "cell_type": "code",
   "execution_count": 105,
   "id": "b0148f69-4e7c-4bfe-9003-fe9f823162a6",
   "metadata": {},
   "outputs": [],
   "source": [
    "import matplotlib.pyplot as plt "
   ]
  },
  {
   "cell_type": "code",
   "execution_count": 106,
   "id": "d5d9ac93-51a4-4379-90e8-7d06201235c1",
   "metadata": {},
   "outputs": [
    {
     "data": {
      "text/plain": [
       "(array([  8.,  22., 118., 406., 729., 857., 564., 232.,  55.,   9.]),\n",
       " array([0.6266059 , 0.69746235, 0.7683188 , 0.83917525, 0.9100317 ,\n",
       "        0.98088815, 1.0517446 , 1.12260105, 1.1934575 , 1.26431395,\n",
       "        1.3351704 ]),\n",
       " <BarContainer object of 10 artists>)"
      ]
     },
     "execution_count": 106,
     "metadata": {},
     "output_type": "execute_result"
    },
    {
     "data": {
      "image/png": "[encoded data removed]",
      "text/plain": [
       "<Figure size 640x480 with 1 Axes>"
      ]
     },
     "metadata": {},
     "output_type": "display_data"
    }
   ],
   "source": [
    "plt.hist(num) "
   ]
  },
  {
   "cell_type": "markdown",
   "id": "4162cf6f-b2e2-4980-877a-c569ae8ff6ca",
   "metadata": {},
   "source": [
    "### random.uniform() "
   ]
  },
  {
   "cell_type": "code",
   "execution_count": 112,
   "id": "524439ae-a874-47e9-a366-bd9bffc8bb87",
   "metadata": {},
   "outputs": [
    {
     "data": {
      "text/plain": [
       "array([8.18958235, 2.33301213, 0.65481737, 8.77215395, 9.26394977,\n",
       "       2.78887273, 5.95945201, 4.11559464, 0.09826503, 6.9274806 ])"
      ]
     },
     "execution_count": 112,
     "metadata": {},
     "output_type": "execute_result"
    }
   ],
   "source": [
    "# random.uniform(low=0.0, high=1.0, size=None) \n",
    "# from a uniform distribution \n",
    "# drawn from half open interval [low, high) \n",
    "a = np.random.uniform(low=0, high = 10, size = (10))\n",
    "a  "
   ]
  },
  {
   "cell_type": "code",
   "execution_count": 117,
   "id": "1adfbb6f-6561-436e-868e-0492c0f00921",
   "metadata": {},
   "outputs": [
    {
     "data": {
      "text/plain": [
       "(2, array([1, 2]), array([2, 3]), array([2, 3]))"
      ]
     },
     "execution_count": 117,
     "metadata": {},
     "output_type": "execute_result"
    }
   ],
   "source": [
    "# indexing, Slicing\n",
    "data = np.array([1, 2, 3])\n",
    "data[1], data[0:2], data[1:], data[-2:] "
   ]
  },
  {
   "cell_type": "code",
   "execution_count": 129,
   "id": "b099f13a-079b-4e1f-b701-b77b88a74b20",
   "metadata": {},
   "outputs": [
    {
     "data": {
      "text/plain": [
       "(array([1, 2, 3, 4, 0, 4, 2, 1]),\n",
       " array([1, 2, 0, 2, 1]),\n",
       " (array([0, 1, 3, 4], dtype=int64),),\n",
       " array([ 2,  4,  6,  8, 10, 12,  0,  4,  2]),\n",
       " array([2, 0, 2]),\n",
       " array([[False, False, False, False],\n",
       "        [ True,  True,  True,  True],\n",
       "        [ True,  True,  True,  True],\n",
       "        [False, False, False, False]]))"
      ]
     },
     "execution_count": 129,
     "metadata": {},
     "output_type": "execute_result"
    }
   ],
   "source": [
    "a = np.array([[1 , 2, 3, 4], [5, 6, 7, 8], [9, 10, 11, 12], [0, 4, 2, 1]])\n",
    "a[a<5], a[a<3],np.nonzero(a[a<3]), a[a%2==0], a[(a<3) & (a%2==0)], (a > 5) | (a == 5)"
   ]
  },
  {
   "cell_type": "code",
   "execution_count": 133,
   "id": "8a0ed4c1-815d-47f7-9cd7-7fc8edb3b5a4",
   "metadata": {},
   "outputs": [
    {
     "data": {
      "text/plain": [
       "(array([1, 2, 0, 2, 1]),\n",
       " (array([0, 0, 3, 3, 3], dtype=int64), array([0, 1, 0, 2, 3], dtype=int64)))"
      ]
     },
     "execution_count": 133,
     "metadata": {},
     "output_type": "execute_result"
    }
   ],
   "source": [
    "# np.nonzero() prints indices of elements satisfying the condition \n",
    "a[a<3],np.nonzero(a<3)"
   ]
  },
  {
   "cell_type": "markdown",
   "id": "f6c8bab9-e6ac-4511-a57f-3e9bcfae056b",
   "metadata": {},
   "source": [
    "### .any() vs all() "
   ]
  },
  {
   "cell_type": "code",
   "execution_count": 137,
   "id": "39374196-f721-4411-8250-a0f3aa9cab0e",
   "metadata": {},
   "outputs": [
    {
     "name": "stdout",
     "output_type": "stream",
     "text": [
      "[[ 1  2  3  4]\n",
      " [ 5  6  7  8]\n",
      " [ 9 10 11 12]\n",
      " [ 0  4  2  1]]\n"
     ]
    },
    {
     "data": {
      "text/plain": [
       "(True, False)"
      ]
     },
     "execution_count": 137,
     "metadata": {},
     "output_type": "execute_result"
    }
   ],
   "source": [
    "# numpy.any(a, axis=None, out=None, keepdims=<no value>, *, where=<no value>)\n",
    "# Test whether any array element along a given axis evaluates to True.\n",
    "# Returns single boolean if axis is None\n",
    "print(a) \n",
    "np.any(a), np.all(a) "
   ]
  },
  {
   "cell_type": "code",
   "execution_count": 144,
   "id": "395aa17d-8dd5-4186-b35f-c843578b88aa",
   "metadata": {},
   "outputs": [
    {
     "name": "stdout",
     "output_type": "stream",
     "text": [
      "True True\n",
      "[0 1 2 3]\n",
      "True False\n",
      "[ True  True False False]\n",
      "True False\n"
     ]
    }
   ],
   "source": [
    "# any is OR Gate, .all() is AND Gate \n",
    "p = [1,2,3] \n",
    "print(np.any(p), np.all(p)) \n",
    "p = np.array([0,1,2,3])\n",
    "print(p) \n",
    "print(np.any(p), np.all(p)) \n",
    "\n",
    "p1 = p<2 \n",
    "print(p1) \n",
    "print(np.any(p1), np.all(p1)) "
   ]
  },
  {
   "cell_type": "markdown",
   "id": "3406ecb3-bbdf-4ee0-9fe3-d650b8f198b0",
   "metadata": {},
   "source": [
    "### broadcasting "
   ]
  },
  {
   "cell_type": "code",
   "execution_count": 146,
   "id": "aca3207b-6457-4273-81f4-cd9793ef27a8",
   "metadata": {},
   "outputs": [
    {
     "data": {
      "text/plain": [
       "array([2., 4., 6.])"
      ]
     },
     "execution_count": 146,
     "metadata": {},
     "output_type": "execute_result"
    }
   ],
   "source": [
    "# a means of vectorizing array operations so that \n",
    "# looping occurs in C instead of Python\n",
    "\n",
    "# The simplest broadcasting example occurs \n",
    "# when an array and a scalar value are combined in an operation:\n",
    "a = np.array([1.0, 2.0, 3.0])\n",
    "b = 2.0\n",
    "a * b\n",
    "# the scalar b is stretched to become an array of same shape as a"
   ]
  },
  {
   "cell_type": "markdown",
   "id": "0b819cae-dbc1-455e-89a8-f0899a5fd5a1",
   "metadata": {},
   "source": [
    "#### Rules of Broadcasting \n",
    "\n",
    "Two dimensions are compatible when\n",
    "\n",
    "    - they are equal, or\n",
    "    - one of them is 1.\n",
    "\n",
    "if not compatible, ValueError is thrown \n",
    "\n",
    "The resulting array will have the same number of dimensions as the input array with the greatest number of dimensions, where the size of each dimension is the largest size of the corresponding dimension among the input arrays\n",
    "\n",
    "e.g : \\\n",
    "A      (4d array):  8 x 1 x 6 x 1 \\\n",
    "B      (3d array):      7 x 1 x 5 \\\n",
    "Result (4d array):  8 x 7 x 6 x 5"
   ]
  },
  {
   "cell_type": "code",
   "execution_count": 147,
   "id": "a2209e58-7850-43f9-9d1b-455ca87a7fd8",
   "metadata": {},
   "outputs": [
    {
     "data": {
      "text/plain": [
       "((4, 3), (3,))"
      ]
     },
     "execution_count": 147,
     "metadata": {},
     "output_type": "execute_result"
    }
   ],
   "source": [
    "a = np.array([[ 0.0,  0.0,  0.0],\n",
    "              [10.0, 10.0, 10.0],\n",
    "              [20.0, 20.0, 20.0],\n",
    "              [30.0, 30.0, 30.0]])\n",
    "b = np.array([1.0, 2.0, 3.0])\n",
    "a.shape, b.shape "
   ]
  },
  {
   "cell_type": "code",
   "execution_count": 148,
   "id": "78a547a6-8273-4617-bfb5-332114070e93",
   "metadata": {},
   "outputs": [
    {
     "data": {
      "text/plain": [
       "(array([[ 1.,  2.,  3.],\n",
       "        [11., 12., 13.],\n",
       "        [21., 22., 23.],\n",
       "        [31., 32., 33.]]),\n",
       " (4, 3))"
      ]
     },
     "execution_count": 148,
     "metadata": {},
     "output_type": "execute_result"
    }
   ],
   "source": [
    "a + b, (a + b).shape"
   ]
  },
  {
   "cell_type": "code",
   "execution_count": 149,
   "id": "5eaf1cf6-7b77-4362-a1f5-a4e90c272fd9",
   "metadata": {},
   "outputs": [
    {
     "data": {
      "text/plain": [
       "((4, 3), (4,))"
      ]
     },
     "execution_count": 149,
     "metadata": {},
     "output_type": "execute_result"
    }
   ],
   "source": [
    "b = np.array([1.0, 2.0, 3.0, 4.0])\n",
    "a.shape, b.shape "
   ]
  },
  {
   "cell_type": "markdown",
   "id": "46b9507e-8f91-4f16-90ed-3008c56d3f8d",
   "metadata": {},
   "source": [
    "- trailing dimensions do not match \\\n",
    "      - 3 and 4\n",
    "\n",
    "When the trailing dimensions of the arrays are unequal, broadcasting fails because it is impossible to align the values in the rows of the 1st array with the elements of the 2nd arrays for element-by-element addition."
   ]
  },
  {
   "cell_type": "code",
   "execution_count": 152,
   "id": "adc21ad7-2366-4cae-bf58-2a83d0f0b76f",
   "metadata": {},
   "outputs": [
    {
     "ename": "ValueError",
     "evalue": "operands could not be broadcast together with shapes (4,3) (4,) ",
     "output_type": "error",
     "traceback": [
      "\u001b[1;31m---------------------------------------------------------------------------\u001b[0m",
      "\u001b[1;31mValueError\u001b[0m                                Traceback (most recent call last)",
      "Cell \u001b[1;32mIn[152], line 1\u001b[0m\n\u001b[1;32m----> 1\u001b[0m \u001b[43ma\u001b[49m\u001b[43m \u001b[49m\u001b[38;5;241;43m+\u001b[39;49m\u001b[43m \u001b[49m\u001b[43mb\u001b[49m, (a \u001b[38;5;241m+\u001b[39m b)\u001b[38;5;241m.\u001b[39mshape\n\u001b[0;32m      2\u001b[0m \u001b[38;5;66;03m# trailing dimensions, so mismatched \u001b[39;00m\n",
      "\u001b[1;31mValueError\u001b[0m: operands could not be broadcast together with shapes (4,3) (4,) "
     ]
    }
   ],
   "source": [
    "a + b, (a + b).shape\n",
    "# trailing dimensions, so mismatched "
   ]
  },
  {
   "cell_type": "code",
   "execution_count": null,
   "id": "3b1ea1d8-d096-4980-afbf-2a3c8fa42e82",
   "metadata": {},
   "outputs": [],
   "source": []
  }
 ],
 "metadata": {
  "kernelspec": {
   "display_name": "Python 3 (ipykernel)",
   "language": "python",
   "name": "python3"
  },
  "language_info": {
   "codemirror_mode": {
    "name": "ipython",
    "version": 3
   },
   "file_extension": ".py",
   "mimetype": "text/x-python",
   "name": "python",
   "nbconvert_exporter": "python",
   "pygments_lexer": "ipython3",
   "version": "3.11.4"
  }
 },
 "nbformat": 4,
 "nbformat_minor": 5
}
