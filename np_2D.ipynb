{
 "cells": [
  {
   "cell_type": "code",
   "execution_count": 1,
   "id": "f22f3d6f-4031-4bff-9afc-e8e5459df02b",
   "metadata": {},
   "outputs": [],
   "source": [
    "import numpy as np "
   ]
  },
  {
   "cell_type": "markdown",
   "id": "62c13b1c-2e16-4933-bdc9-9b49b40c29d9",
   "metadata": {},
   "source": [
    " 2D array \\\n",
    "    - Introduction \\\n",
    "    - reshape() \\\n",
    "    - flatten() vs ravel() \\\n",
    "    - indexing and slicing \\\n",
    "    - axis = 1 vs axis = 0 \n",
    "   - dot product\n",
    "- cross product\n",
    "- linalg module\n",
    "- 3D array and images"
   ]
  },
  {
   "cell_type": "markdown",
   "id": "44dce2bf-34dc-4629-b803-b5c984544332",
   "metadata": {},
   "source": [
    "### items of the same type and size\n",
    "### changes made in one ndarray may be visible in another. That is, an ndarray can be a “view” to another ndarray\n",
    "\n",
    "An instance of class ndarray consists of a contiguous one-dimensional segment of computer memory (owned by the array, or by some other object), combined with an indexing scheme that maps N integers into the location of an item in the block. \n",
    "\n",
    "- An array is considered aligned if the memory offsets for all elements and the base offset itself is a multiple of self.itemsize."
   ]
  },
  {
   "cell_type": "code",
   "execution_count": 9,
   "id": "43fecb4e-5936-4cea-9054-a849268c366c",
   "metadata": {},
   "outputs": [
    {
     "data": {
      "text/plain": [
       "((12,), array([ 3,  5,  7,  9, 11, 13, 15, 17, 19, 21, 23, 25]))"
      ]
     },
     "execution_count": 9,
     "metadata": {},
     "output_type": "execute_result"
    }
   ],
   "source": [
    "x = np.arange(3, 27,2)\n",
    "x.shape , x "
   ]
  },
  {
   "cell_type": "code",
   "execution_count": 17,
   "id": "6c75995b-8b5c-42e2-9001-de3411a62b73",
   "metadata": {},
   "outputs": [
    {
     "data": {
      "text/plain": [
       "(array([[ 3,  5,  7,  9, 11, 13],\n",
       "        [15, 17, 19, 21, 23, 25]]),\n",
       " array([[ 3,  5],\n",
       "        [ 7,  9],\n",
       "        [11, 13],\n",
       "        [15, 17],\n",
       "        [19, 21],\n",
       "        [23, 25]]),\n",
       " array([[ 3,  5,  7,  9],\n",
       "        [11, 13, 15, 17],\n",
       "        [19, 21, 23, 25]]),\n",
       " array([[ 3,  5,  7],\n",
       "        [ 9, 11, 13],\n",
       "        [15, 17, 19],\n",
       "        [21, 23, 25]]),\n",
       " array([ 3,  5,  7,  9, 11, 13, 15, 17, 19, 21, 23, 25]))"
      ]
     },
     "execution_count": 17,
     "metadata": {},
     "output_type": "execute_result"
    }
   ],
   "source": [
    "# numpy.reshape(a, newshape, order='C')\n",
    "# think of reshape as 1) flattening the input array and \n",
    "# 2) inserting each element into the output array with new shape.\n",
    "# elements are selected in row-major order \n",
    "x = x.reshape(2,6)\n",
    "x, x.reshape(6,2), x.reshape(3,4), x.reshape(4,3), x.reshape(12)   "
   ]
  },
  {
   "cell_type": "code",
   "execution_count": 19,
   "id": "c246a25a-3c67-4ed4-abf8-b2f4a5ea4655",
   "metadata": {},
   "outputs": [
    {
     "data": {
      "text/plain": [
       "(  C_CONTIGUOUS : True\n",
       "   F_CONTIGUOUS : False\n",
       "   OWNDATA : False\n",
       "   WRITEABLE : True\n",
       "   ALIGNED : True\n",
       "   WRITEBACKIFCOPY : False,\n",
       " (24, 4))"
      ]
     },
     "execution_count": 19,
     "metadata": {},
     "output_type": "execute_result"
    }
   ],
   "source": [
    "x.flags, x.strides "
   ]
  },
  {
   "cell_type": "code",
   "execution_count": 35,
   "id": "467ec7ea-4880-46d8-a97b-0683b9963f0d",
   "metadata": {},
   "outputs": [
    {
     "name": "stdout",
     "output_type": "stream",
     "text": [
      "[[ 3  5  7  9 11 13]\n",
      " [15 17 19 21 23 25]]\n",
      "[[ 3  5  7  9]\n",
      " [11 13 15 17]\n",
      " [19 21 23 25]]\n",
      "[[ 3 17  9 23]\n",
      " [15  7 21 13]\n",
      " [ 5 19 11 25]]\n",
      "\n",
      "\n",
      "C\n",
      "\n",
      "[[ 3  5  7  9]\n",
      " [11 13 15 17]\n",
      " [19 21 23 25]]\n",
      "\n",
      "F\n",
      "\n",
      "[[ 3 17  9 23]\n",
      " [15  7 21 13]\n",
      " [ 5 19 11 25]]\n",
      "\n",
      "A \n",
      "\n",
      "[[ 3  5  7  9]\n",
      " [11 13 15 17]\n",
      " [19 21 23 25]]\n"
     ]
    }
   ],
   "source": [
    "# np.ndarray.reshape\n",
    "print(x) \n",
    "print(x.reshape(3,4))\n",
    "print(x.reshape((3,4), order='F'))\n",
    "\n",
    "# np.reshape(arr) \n",
    "print('\\n\\nC\\n') \n",
    "print(np.reshape(x, (3,4), order = 'C'))\n",
    "\n",
    "print('\\nF\\n') \n",
    "# R/W as Fortran like index order \n",
    "print(np.reshape(x, (3,4), order = 'F'))\n",
    "\n",
    "print('\\nA \\n') \n",
    "# in Fortran-like index order,, if a is Fortran contiguous in memory, C-like order otherwise\n",
    "print(np.reshape(x, (3,4), order = 'A'))"
   ]
  },
  {
   "cell_type": "markdown",
   "id": "2a627a1f-5ec2-42c6-8c19-c8652ac35c56",
   "metadata": {},
   "source": [
    "### flatten vs ravel \n",
    "\n",
    "flatten is a method of an ndarray object and hence can only be called for true numpy arrays.\n",
    "\n",
    "ravel is a library-level function and hence can be called on any object that can successfully be parsed.\n",
    "\n",
    "    - ravel works on list of ndarrays, flatten not available for such object "
   ]
  },
  {
   "cell_type": "code",
   "execution_count": 48,
   "id": "40716353-01d2-466c-a322-0fd7d0a7b213",
   "metadata": {},
   "outputs": [
    {
     "data": {
      "text/plain": [
       "(array([1, 2, 3, 4, 5, 6]),\n",
       " array([1, 4, 2, 5, 3, 6]),\n",
       " array([1, 2, 3, 4, 5, 6]))"
      ]
     },
     "execution_count": 48,
     "metadata": {},
     "output_type": "execute_result"
    }
   ],
   "source": [
    "# np.ravel(arr, order = 'C')\n",
    "# returns a contiguous flatteend array \n",
    "# order, C, F, A \n",
    "# K for reading elements in the order they occur in the memory \n",
    "x = np.array([[1, 2, 3], [4, 5, 6]])\n",
    "np.ravel(x), np.ravel(x, 'F'),  np.ravel(x, 'K') "
   ]
  },
  {
   "cell_type": "code",
   "execution_count": 49,
   "id": "202e3e66-c5d1-43f3-b50b-bbeeb5de69a6",
   "metadata": {},
   "outputs": [
    {
     "name": "stdout",
     "output_type": "stream",
     "text": [
      "[ 0  1  2  3  4  5  6  7  8  9 10 11]\n"
     ]
    },
    {
     "data": {
      "text/plain": [
       "(array([[[ 0,  1],\n",
       "         [ 2,  3],\n",
       "         [ 4,  5]],\n",
       " \n",
       "        [[ 6,  7],\n",
       "         [ 8,  9],\n",
       "         [10, 11]]]),\n",
       " (2, 3, 2),\n",
       " array([[[ 0,  2,  4],\n",
       "         [ 1,  3,  5]],\n",
       " \n",
       "        [[ 6,  8, 10],\n",
       "         [ 7,  9, 11]]]),\n",
       " (2, 2, 3))"
      ]
     },
     "execution_count": 49,
     "metadata": {},
     "output_type": "execute_result"
    }
   ],
   "source": [
    "a = np.arange(12)\n",
    "print(a) \n",
    "a.reshape(2,3,2),a.reshape(2,3,2).shape, a.reshape(2,3,2).swapaxes(1,2), a.reshape(2,3,2).swapaxes(1,2).shape "
   ]
  },
  {
   "cell_type": "code",
   "execution_count": 50,
   "id": "d72736af-6ce3-416c-855e-219f2b929d9a",
   "metadata": {},
   "outputs": [
    {
     "data": {
      "text/plain": [
       "(array([ 0,  2,  4,  1,  3,  5,  6,  8, 10,  7,  9, 11]),\n",
       " array([ 0,  1,  2,  3,  4,  5,  6,  7,  8,  9, 10, 11]))"
      ]
     },
     "execution_count": 50,
     "metadata": {},
     "output_type": "execute_result"
    }
   ],
   "source": [
    "a2 = a.reshape(2,3,2).swapaxes(1,2)\n",
    "a2.ravel('C'), a2.ravel('K') "
   ]
  },
  {
   "cell_type": "code",
   "execution_count": 51,
   "id": "5f158182-7669-4193-a6ca-8a98ef8cc10e",
   "metadata": {},
   "outputs": [
    {
     "data": {
      "text/plain": [
       "array([1, 2, 3, 4])"
      ]
     },
     "execution_count": 51,
     "metadata": {},
     "output_type": "execute_result"
    }
   ],
   "source": [
    "# flatten returns a copy of array collapsed into one dimension \n",
    "# order: C,F,A, K \n",
    "a = np.array([[1,2], [3,4]])\n",
    "a.flatten()"
   ]
  },
  {
   "cell_type": "code",
   "execution_count": 55,
   "id": "a0113187-d01c-4068-8d76-869812af17bb",
   "metadata": {},
   "outputs": [
    {
     "data": {
      "text/plain": [
       "(2000367546800,\n",
       " 2000387895344,\n",
       " 2000387895344,\n",
       " None,\n",
       " array([[1, 2],\n",
       "        [3, 4]]))"
      ]
     },
     "execution_count": 55,
     "metadata": {},
     "output_type": "execute_result"
    }
   ],
   "source": [
    "# flatten has no base? \n",
    "# a view means it is a copy of a base ndarray \n",
    "# flatten is a new array, so no base \n",
    "id(a), id(a.flatten()), id(a.ravel()), a.flatten().base,  a.ravel().base "
   ]
  },
  {
   "cell_type": "markdown",
   "id": "4b09c531-19fb-4ff4-85b4-a790974dfabd",
   "metadata": {},
   "source": [
    "### indexing and slicing "
   ]
  },
  {
   "cell_type": "code",
   "execution_count": 56,
   "id": "f6d17435-065a-41ce-a1b8-b942e84db74e",
   "metadata": {},
   "outputs": [
    {
     "data": {
      "text/plain": [
       "(1,\n",
       " array([[4, 5],\n",
       "        [7, 8]]))"
      ]
     },
     "execution_count": 56,
     "metadata": {},
     "output_type": "execute_result"
    }
   ],
   "source": [
    "arr_2d = np.array([[0, 1, 2], [3, 4, 5], [6, 7, 8]])\n",
    "arr_2d[0, 1], arr_2d[1:3, 1:3] "
   ]
  },
  {
   "cell_type": "code",
   "execution_count": 58,
   "id": "522175ec-7d6a-4bdd-9f94-9ce39550fb4a",
   "metadata": {},
   "outputs": [
    {
     "data": {
      "text/plain": [
       "(array([[0, 1],\n",
       "        [4, 5]]),\n",
       " 4)"
      ]
     },
     "execution_count": 58,
     "metadata": {},
     "output_type": "execute_result"
    }
   ],
   "source": [
    "arr_3d = np.array([[[0, 1], [2, 3]], [[4, 5], [6, 7]]])\n",
    "arr_3d[:, 0, :], arr_3d[1, 0, 0]"
   ]
  },
  {
   "cell_type": "markdown",
   "id": "39a8864e-24dd-4bb2-a724-f39ac129058b",
   "metadata": {},
   "source": [
    "### axis = 1 vs axis = 0 "
   ]
  },
  {
   "cell_type": "code",
   "execution_count": 59,
   "id": "68a9384b-d215-497e-95cf-5d3f0cb28ac1",
   "metadata": {},
   "outputs": [],
   "source": [
    "# axes are direction along rows, columns \n",
    "# 0 : along the rows, 1st axis \n",
    "# 1 : across the columns, 2nd axis "
   ]
  },
  {
   "cell_type": "code",
   "execution_count": 60,
   "id": "2761c49b-5a28-4a3b-a0a1-2aa08d72a598",
   "metadata": {},
   "outputs": [
    {
     "data": {
      "text/plain": [
       "array([[0, 1, 2],\n",
       "       [3, 4, 5]])"
      ]
     },
     "execution_count": 60,
     "metadata": {},
     "output_type": "execute_result"
    }
   ],
   "source": [
    "np_array_2d = np.arange(0, 6).reshape([2,3])\n",
    "np_array_2d"
   ]
  },
  {
   "cell_type": "code",
   "execution_count": 63,
   "id": "a4fc911d-1c8f-4bc7-ade8-9acd106af1d2",
   "metadata": {},
   "outputs": [
    {
     "data": {
      "text/plain": [
       "(array([3, 5, 7]), array([ 3, 12]))"
      ]
     },
     "execution_count": 63,
     "metadata": {},
     "output_type": "execute_result"
    }
   ],
   "source": [
    "# axis : which axis gets collapsed, or aggregated \n",
    "np.sum(np_array_2d, axis = 0), np.sum(np_array_2d, axis = 1)"
   ]
  },
  {
   "cell_type": "code",
   "execution_count": 64,
   "id": "a6b5ea11-8169-44bc-abac-400145ec3ab8",
   "metadata": {},
   "outputs": [
    {
     "data": {
      "text/plain": [
       "(array([[1, 1, 1],\n",
       "        [1, 1, 1]]),\n",
       " array([[9, 9, 9],\n",
       "        [9, 9, 9]]))"
      ]
     },
     "execution_count": 64,
     "metadata": {},
     "output_type": "execute_result"
    }
   ],
   "source": [
    "# for np.concatenate \n",
    "# axis : axis along which we stack the arrays \n",
    "s = np.array([[1,1,1],[1,1,1]])\n",
    "r = np.array([[9,9,9],[9,9,9]])\n",
    "s,r "
   ]
  },
  {
   "cell_type": "code",
   "execution_count": 66,
   "id": "136a5b26-e754-4ba2-a841-a4104bdc66f6",
   "metadata": {},
   "outputs": [
    {
     "data": {
      "text/plain": [
       "(array([[1, 1, 1],\n",
       "        [1, 1, 1],\n",
       "        [9, 9, 9],\n",
       "        [9, 9, 9]]),\n",
       " array([[1, 1, 1, 9, 9, 9],\n",
       "        [1, 1, 1, 9, 9, 9]]))"
      ]
     },
     "execution_count": 66,
     "metadata": {},
     "output_type": "execute_result"
    }
   ],
   "source": [
    "np.concatenate([s, r], axis = 0), np.concatenate([s, r], axis = 1)"
   ]
  },
  {
   "cell_type": "markdown",
   "id": "425c623c-0ff7-4f9a-a1de-795d77178626",
   "metadata": {},
   "source": [
    "### Dot Product "
   ]
  },
  {
   "cell_type": "code",
   "execution_count": 70,
   "id": "87db8468-5e0c-4a01-aafa-c85bebade036",
   "metadata": {},
   "outputs": [
    {
     "name": "stdout",
     "output_type": "stream",
     "text": [
      "(2, 3) (2, 3)\n"
     ]
    },
    {
     "data": {
      "text/plain": [
       "(array([[27, 27],\n",
       "        [27, 27]]),\n",
       " array([[27, 27],\n",
       "        [27, 27]]))"
      ]
     },
     "execution_count": 70,
     "metadata": {},
     "output_type": "execute_result"
    }
   ],
   "source": [
    "print(s.shape, r.shape) \n",
    "np.dot(s,r.T), s@r.T  "
   ]
  },
  {
   "cell_type": "code",
   "execution_count": null,
   "id": "82476c44-e653-4b7c-99a5-4b913b0741e3",
   "metadata": {},
   "outputs": [],
   "source": []
  }
 ],
 "metadata": {
  "kernelspec": {
   "display_name": "Python 3 (ipykernel)",
   "language": "python",
   "name": "python3"
  },
  "language_info": {
   "codemirror_mode": {
    "name": "ipython",
    "version": 3
   },
   "file_extension": ".py",
   "mimetype": "text/x-python",
   "name": "python",
   "nbconvert_exporter": "python",
   "pygments_lexer": "ipython3",
   "version": "3.11.4"
  }
 },
 "nbformat": 4,
 "nbformat_minor": 5
}
